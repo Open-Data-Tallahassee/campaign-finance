{
 "cells": [
  {
   "cell_type": "code",
   "execution_count": 1,
   "id": "305d9e79",
   "metadata": {},
   "outputs": [],
   "source": [
    "# import libaries\n",
    "import pandas as pd\n",
    "import googlemaps #for geocoding addresses\n",
    "import geopandas as gpd\n",
    "import numpy as np # for calculations"
   ]
  },
  {
   "cell_type": "code",
   "execution_count": 137,
   "id": "11d798a2",
   "metadata": {},
   "outputs": [],
   "source": [
    "# import data\n",
    "df = pd.read_csv('../data/john-dailey.csv')"
   ]
  },
  {
   "cell_type": "code",
   "execution_count": 3,
   "id": "0304239b",
   "metadata": {},
   "outputs": [],
   "source": [
    "# define google maps\n",
    "gmaps = googlemaps.Client(key='HIDDEN')"
   ]
  },
  {
   "cell_type": "markdown",
   "id": "3230e1a5",
   "metadata": {},
   "source": [
    "### Clean the Data"
   ]
  },
  {
   "cell_type": "code",
   "execution_count": 138,
   "id": "5f6f3534",
   "metadata": {},
   "outputs": [],
   "source": [
    "# fill in NaN and NaT with NA\n",
    "df = df.fillna('NA')"
   ]
  },
  {
   "cell_type": "code",
   "execution_count": 139,
   "id": "539a9c78",
   "metadata": {},
   "outputs": [],
   "source": [
    "# clean zip field\n",
    "df['zip'] = df['zip'].str.split('-').str[0]"
   ]
  },
  {
   "cell_type": "code",
   "execution_count": 140,
   "id": "8d45fe2c",
   "metadata": {},
   "outputs": [],
   "source": [
    "# clean amount field\n",
    "df['amount'] = df['amount'].astype('float')"
   ]
  },
  {
   "cell_type": "code",
   "execution_count": 152,
   "id": "4e1cb0ee",
   "metadata": {},
   "outputs": [],
   "source": [
    "# clean dataset of contributions\n",
    "cleandf = df.query(\" `Cont/Exp` == 'C' & `item type` == ['MO','CH','LO'] & `Amend. code` != ['D', 'A'] \").reset_index(drop=True)"
   ]
  },
  {
   "cell_type": "markdown",
   "id": "9e8b06b8",
   "metadata": {},
   "source": [
    "### Data Summary"
   ]
  },
  {
   "cell_type": "code",
   "execution_count": 165,
   "id": "6228360c",
   "metadata": {},
   "outputs": [
    {
     "data": {
      "text/plain": [
       "867"
      ]
     },
     "execution_count": 165,
     "metadata": {},
     "output_type": "execute_result"
    }
   ],
   "source": [
    "# unique contributors (estimate)\n",
    "len(cleandf['name'].unique())"
   ]
  },
  {
   "cell_type": "code",
   "execution_count": 154,
   "id": "160476a4",
   "metadata": {},
   "outputs": [
    {
     "data": {
      "text/plain": [
       "449683.44"
      ]
     },
     "execution_count": 154,
     "metadata": {},
     "output_type": "execute_result"
    }
   ],
   "source": [
    "# total contributions\n",
    "# subtract 1,000 to account for the refund removed during data cleaning\n",
    "sum(df.query(\" `Cont/Exp` == 'C' & `item type` == ['MO','CH','LO'] & `Amend. code` != ['D', 'A'] \")['amount']) - 1000"
   ]
  },
  {
   "cell_type": "markdown",
   "id": "1dcc734c",
   "metadata": {},
   "source": [
    "### Geocode Data"
   ]
  },
  {
   "cell_type": "code",
   "execution_count": 155,
   "id": "6b8bf8a6",
   "metadata": {},
   "outputs": [],
   "source": [
    "# geocode address function\n",
    "def geocode_address(dataframe):\n",
    "# for each row in the dataframe\n",
    "  for i, row in dataframe.iterrows():\n",
    "    print(dataframe['name'][i], \"donated\", dataframe['amount'][i], \"to John Dailey\")\n",
    "    # make sure there's an address\n",
    "    geocode_result = gmaps.geocode(dataframe['address 1'][i] + dataframe['city'][i] + dataframe['state'][i] + dataframe['zip'][i])\n",
    "    if geocode_result != []: \n",
    "        dataframe.loc[i, 'Latitude'] = geocode_result[0]['geometry']['location']['lat']\n",
    "        dataframe.loc[i, 'Longitude'] = geocode_result[0]['geometry']['location']['lng']\n",
    "    else:\n",
    "        dataframe.loc[i, 'Latitude'] = 'NA'\n",
    "        dataframe.loc[i, 'Longitude'] = 'NA'\n",
    "\n",
    "  return dataframe"
   ]
  },
  {
   "cell_type": "code",
   "execution_count": null,
   "id": "81057a29",
   "metadata": {},
   "outputs": [],
   "source": [
    "# geocode the addresses\n",
    "contributions_geocoded = geocode_address(cleandf)"
   ]
  },
  {
   "cell_type": "code",
   "execution_count": 172,
   "id": "82f6a725",
   "metadata": {},
   "outputs": [],
   "source": [
    "# remove fields that don't have geometry\n",
    "# dataframe length: 966 to 882\n",
    "clean_contributions_geocoded = contributions_geocoded.query(\" Latitude != 'NA' \")"
   ]
  },
  {
   "cell_type": "code",
   "execution_count": 173,
   "id": "6443c8e2",
   "metadata": {},
   "outputs": [],
   "source": [
    "# convert dataframe to geodataframe\n",
    "contributionsgdf = gpd.GeoDataFrame(clean_contributions_geocoded, geometry=gpd.points_from_xy(clean_contributions_geocoded.Longitude, clean_contributions_geocoded.Latitude))"
   ]
  },
  {
   "cell_type": "code",
   "execution_count": 176,
   "id": "fcac8226",
   "metadata": {},
   "outputs": [
    {
     "data": {
      "text/html": [
       "<div>\n",
       "<style scoped>\n",
       "    .dataframe tbody tr th:only-of-type {\n",
       "        vertical-align: middle;\n",
       "    }\n",
       "\n",
       "    .dataframe tbody tr th {\n",
       "        vertical-align: top;\n",
       "    }\n",
       "\n",
       "    .dataframe thead th {\n",
       "        text-align: right;\n",
       "    }\n",
       "</style>\n",
       "<table border=\"1\" class=\"dataframe\">\n",
       "  <thead>\n",
       "    <tr style=\"text-align: right;\">\n",
       "      <th></th>\n",
       "      <th>rpt code</th>\n",
       "      <th>line number</th>\n",
       "      <th>item date</th>\n",
       "      <th>Cont/Exp</th>\n",
       "      <th>name</th>\n",
       "      <th>address 1</th>\n",
       "      <th>address 2</th>\n",
       "      <th>city</th>\n",
       "      <th>state</th>\n",
       "      <th>zip</th>\n",
       "      <th>cont. type</th>\n",
       "      <th>occupation</th>\n",
       "      <th>item type</th>\n",
       "      <th>description</th>\n",
       "      <th>amount</th>\n",
       "      <th>Amend. code</th>\n",
       "      <th>lastname</th>\n",
       "      <th>Latitude</th>\n",
       "      <th>Longitude</th>\n",
       "      <th>geometry</th>\n",
       "    </tr>\n",
       "  </thead>\n",
       "  <tbody>\n",
       "    <tr>\n",
       "      <th>0</th>\n",
       "      <td>9068</td>\n",
       "      <td>1</td>\n",
       "      <td>2021-03-19</td>\n",
       "      <td>C</td>\n",
       "      <td>Jon  Ausman</td>\n",
       "      <td>2202 Woodlawn Drive</td>\n",
       "      <td>NA</td>\n",
       "      <td>Tallahassee</td>\n",
       "      <td>FL</td>\n",
       "      <td>32303</td>\n",
       "      <td>I</td>\n",
       "      <td>NA</td>\n",
       "      <td>CH</td>\n",
       "      <td>NA</td>\n",
       "      <td>100.0</td>\n",
       "      <td>NA</td>\n",
       "      <td>Ausman</td>\n",
       "      <td>30.467723</td>\n",
       "      <td>-84.303678</td>\n",
       "      <td>POINT (-84.30368 30.46772)</td>\n",
       "    </tr>\n",
       "    <tr>\n",
       "      <th>2</th>\n",
       "      <td>9068</td>\n",
       "      <td>3</td>\n",
       "      <td>2021-03-19</td>\n",
       "      <td>C</td>\n",
       "      <td>Courtney  Whitis</td>\n",
       "      <td>403 Plantation Road</td>\n",
       "      <td>NA</td>\n",
       "      <td>Tallahassee</td>\n",
       "      <td>FL</td>\n",
       "      <td>32303</td>\n",
       "      <td>I</td>\n",
       "      <td>Political&lt;br&gt;Advisor</td>\n",
       "      <td>CH</td>\n",
       "      <td>NA</td>\n",
       "      <td>250.0</td>\n",
       "      <td>NA</td>\n",
       "      <td>Whitis</td>\n",
       "      <td>30.476478</td>\n",
       "      <td>-84.276723</td>\n",
       "      <td>POINT (-84.27672 30.47648)</td>\n",
       "    </tr>\n",
       "    <tr>\n",
       "      <th>3</th>\n",
       "      <td>9068</td>\n",
       "      <td>4</td>\n",
       "      <td>2021-03-19</td>\n",
       "      <td>C</td>\n",
       "      <td>Derek  Whitis</td>\n",
       "      <td>403 Plantation Road</td>\n",
       "      <td>NA</td>\n",
       "      <td>Tallahassee</td>\n",
       "      <td>FL</td>\n",
       "      <td>32303</td>\n",
       "      <td>I</td>\n",
       "      <td>Political&lt;br&gt;Advisor</td>\n",
       "      <td>CH</td>\n",
       "      <td>NA</td>\n",
       "      <td>250.0</td>\n",
       "      <td>NA</td>\n",
       "      <td>Whitis</td>\n",
       "      <td>30.476478</td>\n",
       "      <td>-84.276723</td>\n",
       "      <td>POINT (-84.27672 30.47648)</td>\n",
       "    </tr>\n",
       "    <tr>\n",
       "      <th>4</th>\n",
       "      <td>9068</td>\n",
       "      <td>5</td>\n",
       "      <td>2021-03-19</td>\n",
       "      <td>C</td>\n",
       "      <td>Jim  Wolf</td>\n",
       "      <td>1888 Witchtree Acres</td>\n",
       "      <td>NA</td>\n",
       "      <td>Tallahassee</td>\n",
       "      <td>FL</td>\n",
       "      <td>32312</td>\n",
       "      <td>I</td>\n",
       "      <td>Retired</td>\n",
       "      <td>CH</td>\n",
       "      <td>NA</td>\n",
       "      <td>150.0</td>\n",
       "      <td>NA</td>\n",
       "      <td>Wolf</td>\n",
       "      <td>30.548868</td>\n",
       "      <td>-84.24501</td>\n",
       "      <td>POINT (-84.24501 30.54887)</td>\n",
       "    </tr>\n",
       "    <tr>\n",
       "      <th>5</th>\n",
       "      <td>9068</td>\n",
       "      <td>6</td>\n",
       "      <td>2021-03-19</td>\n",
       "      <td>C</td>\n",
       "      <td>Lee  Hinkle</td>\n",
       "      <td>824 Greenbrier Lane</td>\n",
       "      <td>NA</td>\n",
       "      <td>Tallahassee</td>\n",
       "      <td>FL</td>\n",
       "      <td>32308</td>\n",
       "      <td>I</td>\n",
       "      <td>Retired</td>\n",
       "      <td>CH</td>\n",
       "      <td>NA</td>\n",
       "      <td>250.0</td>\n",
       "      <td>NA</td>\n",
       "      <td>Hinkle</td>\n",
       "      <td>30.471874</td>\n",
       "      <td>-84.264279</td>\n",
       "      <td>POINT (-84.26428 30.47187)</td>\n",
       "    </tr>\n",
       "  </tbody>\n",
       "</table>\n",
       "</div>"
      ],
      "text/plain": [
       "   rpt code  line number   item date Cont/Exp              name  \\\n",
       "0      9068            1  2021-03-19        C       Jon  Ausman   \n",
       "2      9068            3  2021-03-19        C  Courtney  Whitis   \n",
       "3      9068            4  2021-03-19        C     Derek  Whitis   \n",
       "4      9068            5  2021-03-19        C         Jim  Wolf   \n",
       "5      9068            6  2021-03-19        C       Lee  Hinkle   \n",
       "\n",
       "              address 1 address 2         city state    zip cont. type  \\\n",
       "0  2202 Woodlawn Drive         NA  Tallahassee    FL  32303          I   \n",
       "2   403 Plantation Road        NA  Tallahassee    FL  32303          I   \n",
       "3   403 Plantation Road        NA  Tallahassee    FL  32303          I   \n",
       "4  1888 Witchtree Acres        NA  Tallahassee    FL  32312          I   \n",
       "5   824 Greenbrier Lane        NA  Tallahassee    FL  32308          I   \n",
       "\n",
       "             occupation item type description  amount Amend. code lastname  \\\n",
       "0                    NA        CH          NA   100.0          NA   Ausman   \n",
       "2  Political<br>Advisor        CH          NA   250.0          NA   Whitis   \n",
       "3  Political<br>Advisor        CH          NA   250.0          NA   Whitis   \n",
       "4               Retired        CH          NA   150.0          NA     Wolf   \n",
       "5               Retired        CH          NA   250.0          NA   Hinkle   \n",
       "\n",
       "    Latitude  Longitude                    geometry  \n",
       "0  30.467723 -84.303678  POINT (-84.30368 30.46772)  \n",
       "2  30.476478 -84.276723  POINT (-84.27672 30.47648)  \n",
       "3  30.476478 -84.276723  POINT (-84.27672 30.47648)  \n",
       "4  30.548868  -84.24501  POINT (-84.24501 30.54887)  \n",
       "5  30.471874 -84.264279  POINT (-84.26428 30.47187)  "
      ]
     },
     "execution_count": 176,
     "metadata": {},
     "output_type": "execute_result"
    }
   ],
   "source": [
    "contributionsgdf.head(5)"
   ]
  },
  {
   "cell_type": "code",
   "execution_count": 177,
   "id": "6e48a830",
   "metadata": {},
   "outputs": [],
   "source": [
    "# export geodataframe\n",
    "contributionsgdf[['name', 'address 1', 'cont. type', 'amount', 'geometry']].to_file(\"../data/john-dailey.geojson\", driver='GeoJSON')"
   ]
  },
  {
   "cell_type": "markdown",
   "id": "6d4e879f",
   "metadata": {},
   "source": [
    "### Brief Data Analysis"
   ]
  },
  {
   "cell_type": "code",
   "execution_count": 179,
   "id": "945bf9f7",
   "metadata": {},
   "outputs": [
    {
     "name": "stdout",
     "output_type": "stream",
     "text": [
      " 748/882, or 85.0%, of John Dailey's donors live or operate in Tallahassee.\n"
     ]
    }
   ],
   "source": [
    "# how many donors live or operate in Tallahassee? (the ones who have geometry)\n",
    "print(\" {part}/{whole}, or {ratio}%, of John Dailey's donors live or operate in Tallahassee.\".format(\n",
    "    part=len(clean_contributions_geocoded.query(\" city == 'Tallahassee'\")),\n",
    "    whole=len(clean_contributions_geocoded),\n",
    "    ratio=100*round(len(clean_contributions_geocoded.query(\" city == 'Tallahassee'\"))/len(clean_contributions_geocoded),2)\n",
    "))"
   ]
  },
  {
   "cell_type": "code",
   "execution_count": 180,
   "id": "9a481a67",
   "metadata": {},
   "outputs": [
    {
     "name": "stdout",
     "output_type": "stream",
     "text": [
      " John Dailey's average contribution is $467.\n"
     ]
    }
   ],
   "source": [
    "print(\" John Dailey's average contribution is ${average}.\".format(average=round(sum(cleandf['amount'])/len(cleandf))))"
   ]
  }
 ],
 "metadata": {
  "kernelspec": {
   "display_name": "Python 3 (ipykernel)",
   "language": "python",
   "name": "python3"
  },
  "language_info": {
   "codemirror_mode": {
    "name": "ipython",
    "version": 3
   },
   "file_extension": ".py",
   "mimetype": "text/x-python",
   "name": "python",
   "nbconvert_exporter": "python",
   "pygments_lexer": "ipython3",
   "version": "3.8.12"
  }
 },
 "nbformat": 4,
 "nbformat_minor": 5
}
